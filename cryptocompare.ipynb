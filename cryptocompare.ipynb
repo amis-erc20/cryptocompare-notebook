{
 "cells": [
  {
   "cell_type": "markdown",
   "metadata": {},
   "source": [
    "# Jupyter Notebook\n",
    "\n",
    "NoteBook overview\n",
    "\n",
    "This Jupyter-notebook is a beginner-level introduction to Jupyter-notebook (formerly known as IPython) for interactive Python programming, high-performance numerical computing, and data visualization. It assumes nothing more than familiarity with Python. It targets developers, students, teachers, hobbyists who know Python a bit, and who want to learn IPython for the extended console, the Notebook, and for more advanced scientific applications.\n",
    "\n",
    "The book first introduces Jupyter-notebook for interactive Python and shell programming. It shows how Jupyter-notebook can considerably improve the productivity of a developer who creates, debugs, benchmarks and profiles Python code.\n",
    "\n",
    "Then, the reader learns the very basics of vector computing, and discovers how to load and analyze numerical and tabular data with NumPy and Pandas. The book shows the interactive visualization capabilities of the platform with Matplotlib, SciPy and PIL. It also contains a few image processing examples.\n",
    "\n",
    "Some techniques to accelerate Python code are also demonstrated, using either interactive parallel computing features from IPython (using MPI or not), or Cython to compile a portion of the code in C for really interesting speedups.\n",
    "\n",
    "Finally, the Jupyter-notebook shows how Jupyter-notebook can be customized for advanced uses, notably with the creation of new extensions and magic commands.\n",
    "\n",
    "# Code Example\n",
    "\n",
    "Most files are Jupyter Notebooks (.ipynb extension with JSON data). There are also some Python external scripts (.py extension).\n",
    "\n",
    "The following modules are used in at least one example:\n",
    "\n",
    "Python 3.7,0\n",
    "Jupyter-notebook 5.6\n",
    "NumPy\n",
    "Pandas\n",
    "SciPy\n",
    "Matplotlib\n",
    "Matplotlib basemap\n",
    "NetworkX\n",
    "PyQt or PySide\n",
    "Cython\n",
    "Crycompare\n",
    "\n",
    "\n",
    "## Chapter 1\n",
    "\n",
    "### Data Analytics: cryptocurrency price oscillation\n",
    "\n",
    "### Data Workflow and analysis\n",
    "\n",
    "    -This Jupyter Notebook renders cryptocurrency price oscillation  prediction\n",
    "    \n",
    "    * Data Set Source:\n",
    "        * https://github.com/amisolution/ERC20AMIS/tree/master/downloads/combed.zip\n",
    "            \n",
    "            Data Set Information:\n",
    "\n",
    "            * https://github.com/amisolution/ERC20AMIS\n",
    "                \n",
    "                Data Set Information:\n",
    "\n",
    "- Example 1 : View Jupyter Data Science Workflow inside https://nbviewer.jupyter.org/github/laguer/Jupyter...\n",
    "- Follow the Link to access [Example 1 Jupyter Data Science Workflow](https://nbviewer.jupyter.org/github/LaGuer/jupy-smartbuilding-amis/*.ipynb)\n",
    "https://github.com/LaGuer/JupyterDataScienceWorkflow\n",
    "- Example 2 : View JupyterDataScienceWorkflow in action inside https://nbviewer.jupyter.org/github/laguer/JupyterDataScienceWorkflow\n",
    "- Follow the Link to access [Example 2  JupyterDataScienceWorkflow](https://nbviewer.jupyter.org/github/LaGuer/JupyterDataScienceWorkflow/*.ipynb)\n",
    "\n",
    "\n",
    "Notes:\n",
    "    \n",
    "\n",
    "Attribute Information:\n",
    "\n",
    "                * date: Date in format dd/mm/yyyy\n",
    "                * time: time in format hh:mm:ss\n",
    "                * Volume in: Volume in\n",
    "                * Volume out: Volume out\n",
    "                * Price\n",
    "    \n",
    "## Chapter 1\n",
    "\n",
    "### Data Analytics: Altcoin and cryptocurrency prediction\n",
    "\n",
    "### Data Workflow and analysis\n",
    "\n",
    "    -This Jupyter Notebook analyses cryptocurrency trends and prediction\n",
    "    \n",
    "    * Data Set Source:\n",
    "        * https://github.com/amisolution/ERC20AMIS\n",
    "            \n",
    "            Data Set Information:\n",
    "                \n",
    "            * https://github.com/amisolution/ERC20AMIS/dataset/\n",
    "\n",
    "        * The data set is at 1d for about 2 years.  Time series have been included in the data set for testing the regression models and to filter out non predictive attributes (parameters).\n",
    "\n",
    "For more information about the Jupyter Notebook scripts and figures, please refer to the paper and to the following github repository:\n",
    "\n",
    "[Web Link](https://github.com/amisolution/ERC20AMIS/)\n",
    "\n",
    "Attribute Information:\n",
    "\n",
    "                * date time year-month-day hour:minute:second\n",
    "                * Price\n",
    "                * Volume In",
    "                * Volume Out\n",
    "\n",
    "## Chapter 3\n",
    "\n",
    "## Chapter 4\n",
    "\n",
    "## Chapter 5\n",
    "\n",
    "## Chapter 6"
   ]
  },
  {
   "cell_type": "code",
   "execution_count": 1,
   "metadata": {},
   "outputs": [],
   "source": [
    "# %%timeit\n",
    "# URL= 'https://raw.githubusercontent.com/amisolution/ERC20AMIS/dataset/'\n"
   ]
  },
  {
   "cell_type": "code",
   "execution_count": null,
   "metadata": {},
   "outputs": [],
   "source": []
  },
  {
   "cell_type": "code",
   "execution_count": 16,
   "metadata": {},
   "outputs": [
    {
     "name": "stdout",
     "output_type": "stream",
     "text": [
      "Requirement already satisfied: pandas in /srv/conda/lib/python3.6/site-packages (0.23.4)\n",
      "Requirement already satisfied: clusterlib in /srv/conda/lib/python3.6/site-packages (0.1)\n"
     ]
    }
   ],
   "source": [
    "!pip install pandas\n",
    "!pip install sklearn\n",
    "!pip install matplotlib\n",
    "!pip install joblib\n",
    "!pip install crycompare\n",
    "!pip install ClusterLib\n"
   ]
  },
  {
   "cell_type": "code",
   "execution_count": 8,
   "metadata": {},
   "outputs": [
    {
     "name": "stdout",
     "output_type": "stream",
     "text": [
      "{'Response': 'Success', 'Message': 'This has been moved to https://min-api.cryptocompare.com/data/top/exchanges/full?fsym=AMIS&tsym=ETH', 'Data': {'Algorithm': None, 'ProofType': None, 'BlockNumber': 0, 'NetHashesPerSecond': 0.0, 'TotalCoinsMined': 20000000.0, 'BlockReward': 0.0, 'AggregatedData': {'TYPE': '5', 'MARKET': 'CCCAGG', 'FROMSYMBOL': 'AMIS', 'TOSYMBOL': 'ETH', 'FLAGS': '4', 'PRICE': '14.12', 'LASTUPDATE': '1544826316', 'LASTVOLUME': '0.001', 'LASTVOLUMETO': '0.014119999999999999', 'LASTTRADEID': '1544826316000', 'VOLUMEDAY': '0', 'VOLUMEDAYTO': '0', 'VOLUME24HOUR': '0', 'VOLUME24HOURTO': '0', 'OPENDAY': '14.12', 'HIGHDAY': '14.12', 'LOWDAY': '14.12', 'OPEN24HOUR': '14.12', 'HIGH24HOUR': '14.12', 'LOW24HOUR': '14.12', 'LASTMARKET': 'EtherDelta'}, 'Exchanges': [{'TYPE': '2', 'MARKET': 'EtherDelta', 'FROMSYMBOL': 'AMIS', 'TOSYMBOL': 'ETH', 'FLAGS': '1', 'PRICE': '14.12', 'LASTUPDATE': '1544826316', 'LASTVOLUME': '0.001', 'LASTVOLUMETO': '0.014119999999999999', 'LASTTRADEID': '1544826316000', 'VOLUME24HOUR': '0', 'VOLUME24HOURTO': '0', 'OPEN24HOUR': '14.12', 'HIGH24HOUR': '14.12', 'LOW24HOUR': '14.12'}]}, 'Type': 100}\n"
     ]
    }
   ],
   "source": [
    "from crycompare import price as price\n",
    "print(price.coin_snapshot('amis', 'eth'))"
   ]
  },
  {
   "cell_type": "code",
   "execution_count": 3,
   "metadata": {},
   "outputs": [
    {
     "name": "stdout",
     "output_type": "stream",
     "text": [
      "The autoreload extension is already loaded. To reload it, use:\n",
      "  %reload_ext autoreload\n"
     ]
    },
    {
     "ename": "ModuleNotFoundError",
     "evalue": "No module named 'ClusterLib'",
     "output_type": "error",
     "traceback": [
      "\u001b[0;31m---------------------------------------------------------------------------\u001b[0m",
      "\u001b[0;31mModuleNotFoundError\u001b[0m: No module named 'ClusterLib'"
     ]
    }
   ],
   "source": [
    "# step 1 https://gmarti.gitlab.io/cryptocurrency/2017/08/25/download-cryptocoins-api-python.html\n",
    "%load_ext autoreload\n",
    "%autoreload 2\n",
    "\n",
    "import numpy as np\n",
    "import pandas as pd\n",
    "from joblib import Parallel, delayed\n",
    "import operator\n",
    "import matplotlib.pyplot as plt\n",
    "\n",
    "#from crycompare import *\n",
    "#from ClusterLib import *\n",
    "from crycompare import  price as p\n",
    "#from ClusterLib.clusterlib import *\n",
    "#from ClusterLib.distlib import *\n",
    "from ClusterLib.clusterlib import *\n",
    "from ClusterLib.distlib import *\n",
    "\n",
    "%matplotlib inline"
   ]
  },
  {
   "cell_type": "code",
   "execution_count": 7,
   "metadata": {},
   "outputs": [
    {
     "ename": "TypeError",
     "evalue": "'module' object is not callable",
     "output_type": "error",
     "traceback": [
      "\u001b[0;31m---------------------------------------------------------------------------\u001b[0m",
      "\u001b[0;31mTypeError\u001b[0m: 'module' object is not callable"
     ]
    }
   ],
   "source": [
    "# step 2 https://gmarti.gitlab.io/cryptocurrency/2017/08/25/download-cryptocoins-api-python.html\n",
    "p = Price()\n",
    "\n",
    "coinList = p.coinList()\n",
    "coins = sorted(list( coinList['Data'].keys() ))"
   ]
  },
  {
   "cell_type": "code",
   "execution_count": null,
   "metadata": {},
   "outputs": [],
   "source": [
    "# step 3 https://gmarti.gitlab.io/cryptocurrency/2017/08/25/download-cryptocoins-api-python.html\n",
    "h = History()\n",
    "\n",
    "df_dict = {}\n",
    "for coin in coins:\n",
    "    histo = h.histoDay(coin,'USD',allData=True)\n",
    "    if histo['Data']:\n",
    "        df_histo = pd.DataFrame(histo['Data'])\n",
    "        df_histo['time'] = pd.to_datetime(df_histo['time'],unit='s')\n",
    "        df_histo.index = df_histo['time']\n",
    "        del df_histo['time']\n",
    "        del df_histo['volumefrom']\n",
    "        del df_histo['volumeto']\n",
    "        \n",
    "        df_dict[coin] = df_histo"
   ]
  },
  {
   "cell_type": "code",
   "execution_count": null,
   "metadata": {},
   "outputs": [],
   "source": [
    "# Step 4\n",
    "crypto_histo = pd.concat(df_dict.values(), axis=1, keys=df_dict.keys())"
   ]
  },
  {
   "cell_type": "code",
   "execution_count": null,
   "metadata": {},
   "outputs": [],
   "source": [
    "# Step 5\n",
    "histo_coins = [elem for elem in crypto_histo.columns.levels[0] if not elem == 'MYC']"
   ]
  },
  {
   "cell_type": "code",
   "execution_count": null,
   "metadata": {},
   "outputs": [],
   "source": [
    "# Step 6\n",
    "histo_length = {}\n",
    "for coin in histo_coins:\n",
    "    histo_length[coin] = np.sum( ~np.isnan(crypto_histo[coin]['close'].values) )\n",
    "    \n",
    "sorted_length = sorted(histo_length.items(), key=operator.itemgetter(1),reverse=True)"
   ]
  },
  {
   "cell_type": "code",
   "execution_count": null,
   "metadata": {},
   "outputs": [],
   "source": [
    "# Step 7\n",
    "# we keep the 300 coins having the longest time series of historical prices\n",
    "sub_coins = [sorted_length[i][0] for i in range(300)]\n",
    "\n",
    "sub_crypto_histo = crypto_histo[sub_coins]\n",
    "sub_crypto_histo.tail()"
   ]
  },
  {
   "cell_type": "code",
   "execution_count": null,
   "metadata": {},
   "outputs": [],
   "source": [
    "N = len(sub_coins)\n",
    "recent_histo = sub_crypto_histo[-1000:]"
   ]
  },
  {
   "cell_type": "code",
   "execution_count": null,
   "metadata": {},
   "outputs": [],
   "source": [
    "returns_dict = {}\n",
    "for coin in sub_coins:\n",
    "    coin_histo = recent_histo[coin]\n",
    "    coin_returns = pd.DataFrame(np.diff(np.log(coin_histo.get_values()),axis=0))\n",
    "    returns_dict[coin] = coin_returns\n",
    "\n",
    "recent_returns = pd.concat(returns_dict.values(),axis=1,keys=returns_dict.keys())\n",
    "recent_returns.index = recent_histo.index[1:]"
   ]
  },
  {
   "cell_type": "code",
   "execution_count": null,
   "metadata": {},
   "outputs": [],
   "source": [
    "recent_returns = recent_returns.replace([np.inf, -np.inf], np.nan)\n",
    "recent_returns = recent_returns.fillna(value=0)"
   ]
  },
  {
   "cell_type": "code",
   "execution_count": null,
   "metadata": {},
   "outputs": [],
   "source": [
    "recent_returns.isnull().values.any()"
   ]
  },
  {
   "cell_type": "code",
   "execution_count": null,
   "metadata": {},
   "outputs": [],
   "source": [
    "plt.figure(figsize=(40,10))\n",
    "for coin in sub_coins:\n",
    "    plt.plot(recent_returns[coin])\n",
    "#plt.legend(sub_coins,loc='upper left')\n",
    "plt.xlabel('time',fontsize=18)\n",
    "plt.ylabel('returns \\'X/USD\\'',fontsize=18)\n",
    "plt.show()"
   ]
  },
  {
   "cell_type": "code",
   "execution_count": null,
   "metadata": {},
   "outputs": [],
   "source": [
    "#### End of https://gmarti.gitlab.io/cryptocurrency/2017/08/25/download-cryptocoins-api-python.html"
   ]
  },

  {
   "cell_type": "code",
   "execution_count": 22,
   "metadata": {},
   "outputs": [
    {
     "name": "stdout",
     "output_type": "stream",
     "text": [
      "Jupyter Data Science Workflow.ipynb\r\n"
     ]
    }
   ],
   "source": [
    "%ls"
   ]
  }
 ],
 "metadata": {
  "kernelspec": {
   "display_name": "Python 3",
   "language": "python",
   "name": "python3"
  },
  "language_info": {
   "codemirror_mode": {
    "name": "ipython",
    "version": 3
   },
   "file_extension": ".py",
   "mimetype": "text/x-python",
   "name": "python",
   "nbconvert_exporter": "python",
   "pygments_lexer": "ipython3",
   "version": "3.6.7"
  }
 },
 "nbformat": 4,
 "nbformat_minor": 2
}
